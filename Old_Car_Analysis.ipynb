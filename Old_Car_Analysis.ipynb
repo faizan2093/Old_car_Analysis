{
 "cells": [
  {
   "cell_type": "code",
   "execution_count": 2,
   "id": "06b78ae1-c0f3-473d-a62e-2057a043b1d2",
   "metadata": {},
   "outputs": [],
   "source": [
    "import pandas as pd\n",
    "import matplotlib.pyplot as plt\n",
    "import seaborn as sns"
   ]
  },
  {
   "cell_type": "code",
   "execution_count": 4,
   "id": "d3076d61-fd9e-4098-91bf-e66349bfd281",
   "metadata": {},
   "outputs": [],
   "source": [
    "#For Read the DATA SET\n",
    "dataset = pd.read_csv('car_price.csv')"
   ]
  },
  {
   "cell_type": "code",
   "execution_count": 5,
   "id": "97a70c56-659a-4165-aa67-4ce7649e5c1b",
   "metadata": {},
   "outputs": [
    {
     "data": {
      "text/plain": [
       "(5512, 10)"
      ]
     },
     "execution_count": 5,
     "metadata": {},
     "output_type": "execute_result"
    }
   ],
   "source": [
    "#Overall Data in Dataset.\n",
    "dataset.shape"
   ]
  },
  {
   "cell_type": "code",
   "execution_count": 6,
   "id": "460303e4-8dbf-4a3f-b8b9-478402a076b4",
   "metadata": {},
   "outputs": [
    {
     "data": {
      "text/html": [
       "<div>\n",
       "<style scoped>\n",
       "    .dataframe tbody tr th:only-of-type {\n",
       "        vertical-align: middle;\n",
       "    }\n",
       "\n",
       "    .dataframe tbody tr th {\n",
       "        vertical-align: top;\n",
       "    }\n",
       "\n",
       "    .dataframe thead th {\n",
       "        text-align: right;\n",
       "    }\n",
       "</style>\n",
       "<table border=\"1\" class=\"dataframe\">\n",
       "  <thead>\n",
       "    <tr style=\"text-align: right;\">\n",
       "      <th></th>\n",
       "      <th>Unnamed: 0</th>\n",
       "      <th>car_name</th>\n",
       "      <th>car_prices_in_rupee</th>\n",
       "      <th>kms_driven</th>\n",
       "      <th>fuel_type</th>\n",
       "      <th>transmission</th>\n",
       "      <th>ownership</th>\n",
       "      <th>manufacture</th>\n",
       "      <th>engine</th>\n",
       "      <th>Seats</th>\n",
       "    </tr>\n",
       "  </thead>\n",
       "  <tbody>\n",
       "    <tr>\n",
       "      <th>0</th>\n",
       "      <td>0</td>\n",
       "      <td>Jeep Compass 2.0 Longitude Option BSIV</td>\n",
       "      <td>10.03 Lakh</td>\n",
       "      <td>86,226 kms</td>\n",
       "      <td>Diesel</td>\n",
       "      <td>Manual</td>\n",
       "      <td>1st Owner</td>\n",
       "      <td>2017</td>\n",
       "      <td>1956 cc</td>\n",
       "      <td>5 Seats</td>\n",
       "    </tr>\n",
       "    <tr>\n",
       "      <th>1</th>\n",
       "      <td>1</td>\n",
       "      <td>Renault Duster RXZ Turbo CVT</td>\n",
       "      <td>12.83 Lakh</td>\n",
       "      <td>13,248 kms</td>\n",
       "      <td>Petrol</td>\n",
       "      <td>Automatic</td>\n",
       "      <td>1st Owner</td>\n",
       "      <td>2021</td>\n",
       "      <td>1330 cc</td>\n",
       "      <td>5 Seats</td>\n",
       "    </tr>\n",
       "    <tr>\n",
       "      <th>2</th>\n",
       "      <td>2</td>\n",
       "      <td>Toyota Camry 2.5 G</td>\n",
       "      <td>16.40 Lakh</td>\n",
       "      <td>60,343 kms</td>\n",
       "      <td>Petrol</td>\n",
       "      <td>Automatic</td>\n",
       "      <td>1st Owner</td>\n",
       "      <td>2016</td>\n",
       "      <td>2494 cc</td>\n",
       "      <td>5 Seats</td>\n",
       "    </tr>\n",
       "    <tr>\n",
       "      <th>3</th>\n",
       "      <td>3</td>\n",
       "      <td>Honda Jazz VX CVT</td>\n",
       "      <td>7.77 Lakh</td>\n",
       "      <td>26,696 kms</td>\n",
       "      <td>Petrol</td>\n",
       "      <td>Automatic</td>\n",
       "      <td>1st Owner</td>\n",
       "      <td>2018</td>\n",
       "      <td>1199 cc</td>\n",
       "      <td>5 Seats</td>\n",
       "    </tr>\n",
       "    <tr>\n",
       "      <th>4</th>\n",
       "      <td>4</td>\n",
       "      <td>Volkswagen Polo 1.2 MPI Highline</td>\n",
       "      <td>5.15 Lakh</td>\n",
       "      <td>69,414 kms</td>\n",
       "      <td>Petrol</td>\n",
       "      <td>Manual</td>\n",
       "      <td>1st Owner</td>\n",
       "      <td>2016</td>\n",
       "      <td>1199 cc</td>\n",
       "      <td>5 Seats</td>\n",
       "    </tr>\n",
       "  </tbody>\n",
       "</table>\n",
       "</div>"
      ],
      "text/plain": [
       "   Unnamed: 0                                car_name car_prices_in_rupee  \\\n",
       "0           0  Jeep Compass 2.0 Longitude Option BSIV          10.03 Lakh   \n",
       "1           1            Renault Duster RXZ Turbo CVT          12.83 Lakh   \n",
       "2           2                      Toyota Camry 2.5 G          16.40 Lakh   \n",
       "3           3                       Honda Jazz VX CVT           7.77 Lakh   \n",
       "4           4        Volkswagen Polo 1.2 MPI Highline           5.15 Lakh   \n",
       "\n",
       "   kms_driven fuel_type transmission  ownership  manufacture   engine    Seats  \n",
       "0  86,226 kms    Diesel       Manual  1st Owner         2017  1956 cc  5 Seats  \n",
       "1  13,248 kms    Petrol    Automatic  1st Owner         2021  1330 cc  5 Seats  \n",
       "2  60,343 kms    Petrol    Automatic  1st Owner         2016  2494 cc  5 Seats  \n",
       "3  26,696 kms    Petrol    Automatic  1st Owner         2018  1199 cc  5 Seats  \n",
       "4  69,414 kms    Petrol       Manual  1st Owner         2016  1199 cc  5 Seats  "
      ]
     },
     "execution_count": 6,
     "metadata": {},
     "output_type": "execute_result"
    }
   ],
   "source": [
    "#For Check the Data 10 Rows.\n",
    "dataset.head()"
   ]
  },
  {
   "cell_type": "code",
   "execution_count": 8,
   "id": "471f131e-e538-4e0f-9506-8f8a4fd7f78f",
   "metadata": {},
   "outputs": [
    {
     "data": {
      "text/html": [
       "<div>\n",
       "<style scoped>\n",
       "    .dataframe tbody tr th:only-of-type {\n",
       "        vertical-align: middle;\n",
       "    }\n",
       "\n",
       "    .dataframe tbody tr th {\n",
       "        vertical-align: top;\n",
       "    }\n",
       "\n",
       "    .dataframe thead th {\n",
       "        text-align: right;\n",
       "    }\n",
       "</style>\n",
       "<table border=\"1\" class=\"dataframe\">\n",
       "  <thead>\n",
       "    <tr style=\"text-align: right;\">\n",
       "      <th></th>\n",
       "      <th>Unnamed: 0</th>\n",
       "      <th>car_name</th>\n",
       "      <th>car_prices_in_rupee</th>\n",
       "      <th>kms_driven</th>\n",
       "      <th>fuel_type</th>\n",
       "      <th>transmission</th>\n",
       "      <th>ownership</th>\n",
       "      <th>manufacture</th>\n",
       "      <th>engine</th>\n",
       "      <th>Seats</th>\n",
       "    </tr>\n",
       "  </thead>\n",
       "  <tbody>\n",
       "    <tr>\n",
       "      <th>0</th>\n",
       "      <td>0</td>\n",
       "      <td>Jeep Compass 2.0 Longitude Option BSIV</td>\n",
       "      <td>10.03 Lakh</td>\n",
       "      <td>86,226 kms</td>\n",
       "      <td>Diesel</td>\n",
       "      <td>Manual</td>\n",
       "      <td>1st Owner</td>\n",
       "      <td>2017</td>\n",
       "      <td>1956 cc</td>\n",
       "      <td>5 Seats</td>\n",
       "    </tr>\n",
       "    <tr>\n",
       "      <th>1</th>\n",
       "      <td>1</td>\n",
       "      <td>Renault Duster RXZ Turbo CVT</td>\n",
       "      <td>12.83 Lakh</td>\n",
       "      <td>13,248 kms</td>\n",
       "      <td>Petrol</td>\n",
       "      <td>Automatic</td>\n",
       "      <td>1st Owner</td>\n",
       "      <td>2021</td>\n",
       "      <td>1330 cc</td>\n",
       "      <td>5 Seats</td>\n",
       "    </tr>\n",
       "    <tr>\n",
       "      <th>2</th>\n",
       "      <td>2</td>\n",
       "      <td>Toyota Camry 2.5 G</td>\n",
       "      <td>16.40 Lakh</td>\n",
       "      <td>60,343 kms</td>\n",
       "      <td>Petrol</td>\n",
       "      <td>Automatic</td>\n",
       "      <td>1st Owner</td>\n",
       "      <td>2016</td>\n",
       "      <td>2494 cc</td>\n",
       "      <td>5 Seats</td>\n",
       "    </tr>\n",
       "    <tr>\n",
       "      <th>3</th>\n",
       "      <td>3</td>\n",
       "      <td>Honda Jazz VX CVT</td>\n",
       "      <td>7.77 Lakh</td>\n",
       "      <td>26,696 kms</td>\n",
       "      <td>Petrol</td>\n",
       "      <td>Automatic</td>\n",
       "      <td>1st Owner</td>\n",
       "      <td>2018</td>\n",
       "      <td>1199 cc</td>\n",
       "      <td>5 Seats</td>\n",
       "    </tr>\n",
       "    <tr>\n",
       "      <th>4</th>\n",
       "      <td>4</td>\n",
       "      <td>Volkswagen Polo 1.2 MPI Highline</td>\n",
       "      <td>5.15 Lakh</td>\n",
       "      <td>69,414 kms</td>\n",
       "      <td>Petrol</td>\n",
       "      <td>Manual</td>\n",
       "      <td>1st Owner</td>\n",
       "      <td>2016</td>\n",
       "      <td>1199 cc</td>\n",
       "      <td>5 Seats</td>\n",
       "    </tr>\n",
       "  </tbody>\n",
       "</table>\n",
       "</div>"
      ],
      "text/plain": [
       "   Unnamed: 0                                car_name car_prices_in_rupee  \\\n",
       "0           0  Jeep Compass 2.0 Longitude Option BSIV          10.03 Lakh   \n",
       "1           1            Renault Duster RXZ Turbo CVT          12.83 Lakh   \n",
       "2           2                      Toyota Camry 2.5 G          16.40 Lakh   \n",
       "3           3                       Honda Jazz VX CVT           7.77 Lakh   \n",
       "4           4        Volkswagen Polo 1.2 MPI Highline           5.15 Lakh   \n",
       "\n",
       "   kms_driven fuel_type transmission  ownership  manufacture   engine    Seats  \n",
       "0  86,226 kms    Diesel       Manual  1st Owner         2017  1956 cc  5 Seats  \n",
       "1  13,248 kms    Petrol    Automatic  1st Owner         2021  1330 cc  5 Seats  \n",
       "2  60,343 kms    Petrol    Automatic  1st Owner         2016  2494 cc  5 Seats  \n",
       "3  26,696 kms    Petrol    Automatic  1st Owner         2018  1199 cc  5 Seats  \n",
       "4  69,414 kms    Petrol       Manual  1st Owner         2016  1199 cc  5 Seats  "
      ]
     },
     "execution_count": 8,
     "metadata": {},
     "output_type": "execute_result"
    }
   ],
   "source": [
    "#For Check the Data 10 Rows.\n",
    "dataset.head()"
   ]
  },
  {
   "cell_type": "code",
   "execution_count": 9,
   "id": "bfc67a58-af20-4c45-a5bc-7e59480431da",
   "metadata": {},
   "outputs": [
    {
     "name": "stdout",
     "output_type": "stream",
     "text": [
      "<class 'pandas.core.frame.DataFrame'>\n",
      "RangeIndex: 5512 entries, 0 to 5511\n",
      "Data columns (total 10 columns):\n",
      " #   Column               Non-Null Count  Dtype \n",
      "---  ------               --------------  ----- \n",
      " 0   Unnamed: 0           5512 non-null   int64 \n",
      " 1   car_name             5512 non-null   object\n",
      " 2   car_prices_in_rupee  5512 non-null   object\n",
      " 3   kms_driven           5512 non-null   object\n",
      " 4   fuel_type            5512 non-null   object\n",
      " 5   transmission         5512 non-null   object\n",
      " 6   ownership            5512 non-null   object\n",
      " 7   manufacture          5512 non-null   int64 \n",
      " 8   engine               5512 non-null   object\n",
      " 9   Seats                5512 non-null   object\n",
      "dtypes: int64(2), object(8)\n",
      "memory usage: 430.8+ KB\n"
     ]
    }
   ],
   "source": [
    "#For Check the Data Types.\n",
    "dataset.info()"
   ]
  },
  {
   "cell_type": "code",
   "execution_count": 14,
   "id": "fe944ee5-f286-4f73-a147-d244032f5195",
   "metadata": {},
   "outputs": [
    {
     "data": {
      "text/plain": [
       "Unnamed: 0             0.0\n",
       "car_name               0.0\n",
       "car_prices_in_rupee    0.0\n",
       "kms_driven             0.0\n",
       "fuel_type              0.0\n",
       "transmission           0.0\n",
       "ownership              0.0\n",
       "manufacture            0.0\n",
       "engine                 0.0\n",
       "Seats                  0.0\n",
       "dtype: float64"
      ]
     },
     "execution_count": 14,
     "metadata": {},
     "output_type": "execute_result"
    }
   ],
   "source": [
    "#Check missing Content\n",
    "#isnull() is Use for check null value in Data Set.\n",
    "#sum() is use for calculate all null values in dataset.\n",
    "#below this code is use for value come from Percentage.\n",
    "#(dataset.isnull().sum()/dataset.shape[0])*100\n",
    "dataset.isnull().sum()"
   ]
  },
  {
   "cell_type": "code",
   "execution_count": 15,
   "id": "a8b25c4d-4ae9-4d54-a81a-e1768053d9e9",
   "metadata": {},
   "outputs": [],
   "source": [
    "#Blank Row remove using Dropna\n",
    "#inplace=True is use for save the file\n",
    "dataset.dropna(inplace=True)"
   ]
  },
  {
   "cell_type": "code",
   "execution_count": 8,
   "id": "54f71126-50b6-4ac8-954e-fd628ac42f0b",
   "metadata": {},
   "outputs": [
    {
     "data": {
      "text/plain": [
       "0       Jeep Compass 2.0 Longitude Option BSIV\n",
       "1                 Renault Duster RXZ Turbo CVT\n",
       "2                           Toyota Camry 2.5 G\n",
       "3                            Honda Jazz VX CVT\n",
       "4             Volkswagen Polo 1.2 MPI Highline\n",
       "                         ...                  \n",
       "5507                   BMW X1 sDrive 20d xLine\n",
       "5508                     BMW M Series M4 Coupe\n",
       "5509                Jaguar XF 2.2 Litre Luxury\n",
       "5510                        BMW 7 Series 730Ld\n",
       "5511                 BMW 5 Series 520d M Sport\n",
       "Name: car_name, Length: 5512, dtype: object"
      ]
     },
     "execution_count": 8,
     "metadata": {},
     "output_type": "execute_result"
    }
   ],
   "source": [
    "# select column using []\n",
    "dataset['car_name']"
   ]
  },
  {
   "cell_type": "code",
   "execution_count": 9,
   "id": "1a58e343-716a-40d7-944f-564261d66588",
   "metadata": {},
   "outputs": [
    {
     "data": {
      "text/plain": [
       "'Jeep Compass 2.0 Longitude Option BSIV'"
      ]
     },
     "execution_count": 9,
     "metadata": {},
     "output_type": "execute_result"
    }
   ],
   "source": [
    "dataset['car_name'][0]"
   ]
  },
  {
   "cell_type": "code",
   "execution_count": 11,
   "id": "ef30b9cf-4b6a-4eec-84ac-cef1713dbe58",
   "metadata": {},
   "outputs": [
    {
     "data": {
      "text/plain": [
       "4"
      ]
     },
     "execution_count": 11,
     "metadata": {},
     "output_type": "execute_result"
    }
   ],
   "source": [
    "x = dataset['car_name'][0]\n",
    "x.index(\" \")"
   ]
  },
  {
   "cell_type": "code",
   "execution_count": 12,
   "id": "e68a118e-37b0-4be0-aa23-0d1dee998842",
   "metadata": {},
   "outputs": [
    {
     "data": {
      "text/plain": [
       "'Jeep'"
      ]
     },
     "execution_count": 12,
     "metadata": {},
     "output_type": "execute_result"
    }
   ],
   "source": [
    "#Slicing \n",
    "x = dataset['car_name'][0]\n",
    "x[:x.index(\" \")]"
   ]
  },
  {
   "cell_type": "code",
   "execution_count": 17,
   "id": "df8f5aa5-afa2-4e2f-88ba-753f0ad64f50",
   "metadata": {},
   "outputs": [],
   "source": [
    "#we create customise function for entire data\n",
    "#Company name \n",
    "def company_name(x):\n",
    "    return x[:x.index(\" \")]"
   ]
  },
  {
   "cell_type": "code",
   "execution_count": 18,
   "id": "e6da5911-dead-4be8-a276-81f4180cb65e",
   "metadata": {},
   "outputs": [],
   "source": [
    "#we create customise function for Car_name\n",
    "def car_name(x):\n",
    "    return x[x.index(\" \")+1:]"
   ]
  },
  {
   "cell_type": "code",
   "execution_count": 15,
   "id": "14883161-f923-4c1a-bb2b-f2c455e66689",
   "metadata": {},
   "outputs": [],
   "source": [
    "#Company name\n",
    "dataset[\"Company_name\"] = dataset[\"car_name\"].apply(company_name)"
   ]
  },
  {
   "cell_type": "code",
   "execution_count": 21,
   "id": "f52adfee-cc8a-4e08-a355-9b7042f961ac",
   "metadata": {},
   "outputs": [],
   "source": [
    "#Car name \n",
    "dataset['car_name'] = dataset[\"car_name\"].apply(car_name)"
   ]
  },
  {
   "cell_type": "code",
   "execution_count": 25,
   "id": "d4ecc592-c67a-453b-90e4-2af754dda55a",
   "metadata": {},
   "outputs": [],
   "source": [
    "#company car name colum adjust\n",
    "column_order = ['Company_name'] + [col for col in dataset.columns if col != 'Company_name']\n",
    "dataset= dataset[column_order]"
   ]
  },
  {
   "cell_type": "code",
   "execution_count": 28,
   "id": "63d4e1d2-220e-45f4-8286-e40c8f0c9582",
   "metadata": {},
   "outputs": [],
   "source": [
    "#Unnamed column Delete\n",
    "dataset.drop(columns=['Unnamed: 0'], inplace=True)"
   ]
  },
  {
   "cell_type": "code",
   "execution_count": 29,
   "id": "d22e58d1-081b-4b62-aead-535843d14f6d",
   "metadata": {},
   "outputs": [
    {
     "data": {
      "text/html": [
       "<div>\n",
       "<style scoped>\n",
       "    .dataframe tbody tr th:only-of-type {\n",
       "        vertical-align: middle;\n",
       "    }\n",
       "\n",
       "    .dataframe tbody tr th {\n",
       "        vertical-align: top;\n",
       "    }\n",
       "\n",
       "    .dataframe thead th {\n",
       "        text-align: right;\n",
       "    }\n",
       "</style>\n",
       "<table border=\"1\" class=\"dataframe\">\n",
       "  <thead>\n",
       "    <tr style=\"text-align: right;\">\n",
       "      <th></th>\n",
       "      <th>Company_name</th>\n",
       "      <th>car_name</th>\n",
       "      <th>car_prices_in_rupee</th>\n",
       "      <th>kms_driven</th>\n",
       "      <th>fuel_type</th>\n",
       "      <th>transmission</th>\n",
       "      <th>ownership</th>\n",
       "      <th>manufacture</th>\n",
       "      <th>engine</th>\n",
       "      <th>Seats</th>\n",
       "    </tr>\n",
       "  </thead>\n",
       "  <tbody>\n",
       "    <tr>\n",
       "      <th>0</th>\n",
       "      <td>Jeep</td>\n",
       "      <td>Compass 2.0 Longitude Option BSIV</td>\n",
       "      <td>10.03 Lakh</td>\n",
       "      <td>86,226 kms</td>\n",
       "      <td>Diesel</td>\n",
       "      <td>Manual</td>\n",
       "      <td>1st Owner</td>\n",
       "      <td>2017</td>\n",
       "      <td>1956 cc</td>\n",
       "      <td>5 Seats</td>\n",
       "    </tr>\n",
       "    <tr>\n",
       "      <th>1</th>\n",
       "      <td>Renault</td>\n",
       "      <td>Duster RXZ Turbo CVT</td>\n",
       "      <td>12.83 Lakh</td>\n",
       "      <td>13,248 kms</td>\n",
       "      <td>Petrol</td>\n",
       "      <td>Automatic</td>\n",
       "      <td>1st Owner</td>\n",
       "      <td>2021</td>\n",
       "      <td>1330 cc</td>\n",
       "      <td>5 Seats</td>\n",
       "    </tr>\n",
       "    <tr>\n",
       "      <th>2</th>\n",
       "      <td>Toyota</td>\n",
       "      <td>Camry 2.5 G</td>\n",
       "      <td>16.40 Lakh</td>\n",
       "      <td>60,343 kms</td>\n",
       "      <td>Petrol</td>\n",
       "      <td>Automatic</td>\n",
       "      <td>1st Owner</td>\n",
       "      <td>2016</td>\n",
       "      <td>2494 cc</td>\n",
       "      <td>5 Seats</td>\n",
       "    </tr>\n",
       "    <tr>\n",
       "      <th>3</th>\n",
       "      <td>Honda</td>\n",
       "      <td>Jazz VX CVT</td>\n",
       "      <td>7.77 Lakh</td>\n",
       "      <td>26,696 kms</td>\n",
       "      <td>Petrol</td>\n",
       "      <td>Automatic</td>\n",
       "      <td>1st Owner</td>\n",
       "      <td>2018</td>\n",
       "      <td>1199 cc</td>\n",
       "      <td>5 Seats</td>\n",
       "    </tr>\n",
       "    <tr>\n",
       "      <th>4</th>\n",
       "      <td>Volkswagen</td>\n",
       "      <td>Polo 1.2 MPI Highline</td>\n",
       "      <td>5.15 Lakh</td>\n",
       "      <td>69,414 kms</td>\n",
       "      <td>Petrol</td>\n",
       "      <td>Manual</td>\n",
       "      <td>1st Owner</td>\n",
       "      <td>2016</td>\n",
       "      <td>1199 cc</td>\n",
       "      <td>5 Seats</td>\n",
       "    </tr>\n",
       "  </tbody>\n",
       "</table>\n",
       "</div>"
      ],
      "text/plain": [
       "  Company_name                           car_name car_prices_in_rupee  \\\n",
       "0         Jeep  Compass 2.0 Longitude Option BSIV          10.03 Lakh   \n",
       "1      Renault               Duster RXZ Turbo CVT          12.83 Lakh   \n",
       "2       Toyota                        Camry 2.5 G          16.40 Lakh   \n",
       "3        Honda                        Jazz VX CVT           7.77 Lakh   \n",
       "4   Volkswagen              Polo 1.2 MPI Highline           5.15 Lakh   \n",
       "\n",
       "   kms_driven fuel_type transmission  ownership  manufacture   engine    Seats  \n",
       "0  86,226 kms    Diesel       Manual  1st Owner         2017  1956 cc  5 Seats  \n",
       "1  13,248 kms    Petrol    Automatic  1st Owner         2021  1330 cc  5 Seats  \n",
       "2  60,343 kms    Petrol    Automatic  1st Owner         2016  2494 cc  5 Seats  \n",
       "3  26,696 kms    Petrol    Automatic  1st Owner         2018  1199 cc  5 Seats  \n",
       "4  69,414 kms    Petrol       Manual  1st Owner         2016  1199 cc  5 Seats  "
      ]
     },
     "execution_count": 29,
     "metadata": {},
     "output_type": "execute_result"
    }
   ],
   "source": [
    "dataset.head()"
   ]
  },
  {
   "cell_type": "markdown",
   "id": "2344a53d-f4ba-4f05-a6f9-275673df5210",
   "metadata": {},
   "source": [
    "car prise\n",
    "Problems in car price\n",
    "35,000 , 28.90 Lakh , 1.20 Crors. "
   ]
  },
  {
   "cell_type": "code",
   "execution_count": 30,
   "id": "5d65037e-6f88-4323-8780-36f8a6d47760",
   "metadata": {},
   "outputs": [
    {
     "data": {
      "text/plain": [
       "0       10.03 Lakh\n",
       "1       12.83 Lakh\n",
       "2       16.40 Lakh\n",
       "3        7.77 Lakh\n",
       "4        5.15 Lakh\n",
       "           ...    \n",
       "5507    28.90 Lakh\n",
       "5508    64.90 Lakh\n",
       "5509    13.75 Lakh\n",
       "5510    29.90 Lakh\n",
       "5511    31.90 Lakh\n",
       "Name: car_prices_in_rupee, Length: 5512, dtype: object"
      ]
     },
     "execution_count": 30,
     "metadata": {},
     "output_type": "execute_result"
    }
   ],
   "source": [
    "dataset['car_prices_in_rupee']"
   ]
  },
  {
   "cell_type": "code",
   "execution_count": 31,
   "id": "f7ca8b45-7024-404b-823d-ac576d2d6b38",
   "metadata": {},
   "outputs": [
    {
     "data": {
      "text/plain": [
       "0       10.03 Lakh\n",
       "1       12.83 Lakh\n",
       "2       16.40 Lakh\n",
       "3        7.77 Lakh\n",
       "4        5.15 Lakh\n",
       "           ...    \n",
       "5507    28.90 Lakh\n",
       "5508    64.90 Lakh\n",
       "5509    13.75 Lakh\n",
       "5510    29.90 Lakh\n",
       "5511    31.90 Lakh\n",
       "Name: car_prices_in_rupee, Length: 5512, dtype: object"
      ]
     },
     "execution_count": 31,
     "metadata": {},
     "output_type": "execute_result"
    }
   ],
   "source": [
    "#Comma Replace in Car Price.\n",
    "dataset['car_prices_in_rupee'].str.replace(',',' ')"
   ]
  },
  {
   "cell_type": "code",
   "execution_count": 32,
   "id": "cef61c48-2e9b-4be7-a50a-1146af5f04b7",
   "metadata": {},
   "outputs": [],
   "source": [
    "dataset['car_prices_in_rupee'] = dataset['car_prices_in_rupee'].str.replace(',',' ')"
   ]
  },
  {
   "cell_type": "code",
   "execution_count": 33,
   "id": "e638adef-318a-4be4-a7a8-ade555083615",
   "metadata": {},
   "outputs": [],
   "source": [
    "#Convertion on Rupees function\n",
    "def rupe_change(x):\n",
    "    p = x.split(\" \")\n",
    "    try:\n",
    "        if p[1] == \"Lakh\":\n",
    "            return str(round(float(p[0]) * 100000, 1))\n",
    "        elif p[1] == \"Crore\":\n",
    "            return str(round(float(p[0]) * 10000000, 1))\n",
    "    except:\n",
    "        return x"
   ]
  },
  {
   "cell_type": "code",
   "execution_count": 34,
   "id": "105a3b37-00d3-493b-a26a-a1b2ee1b164c",
   "metadata": {},
   "outputs": [
    {
     "data": {
      "text/plain": [
       "0       1003000.0\n",
       "1       1283000.0\n",
       "2       1640000.0\n",
       "3        777000.0\n",
       "4        515000.0\n",
       "          ...    \n",
       "5507    2890000.0\n",
       "5508    6490000.0\n",
       "5509    1375000.0\n",
       "5510    2990000.0\n",
       "5511    3190000.0\n",
       "Name: car_prices_in_rupee, Length: 5512, dtype: object"
      ]
     },
     "execution_count": 34,
     "metadata": {},
     "output_type": "execute_result"
    }
   ],
   "source": [
    "dataset['car_prices_in_rupee'].apply(rupe_change)"
   ]
  },
  {
   "cell_type": "code",
   "execution_count": 35,
   "id": "22aa78f7-e178-470e-8776-aef6b426b46b",
   "metadata": {},
   "outputs": [],
   "source": [
    "dataset['car_prices_in_rupee']= dataset['car_prices_in_rupee'].apply(rupe_change)"
   ]
  },
  {
   "cell_type": "code",
   "execution_count": 38,
   "id": "36d14fb8-4186-41d1-97f2-0b6a5d3a9bf0",
   "metadata": {},
   "outputs": [
    {
     "name": "stdout",
     "output_type": "stream",
     "text": [
      "<class 'pandas.core.frame.DataFrame'>\n",
      "RangeIndex: 5512 entries, 0 to 5511\n",
      "Data columns (total 10 columns):\n",
      " #   Column               Non-Null Count  Dtype \n",
      "---  ------               --------------  ----- \n",
      " 0   Company_name         5512 non-null   object\n",
      " 1   car_name             5512 non-null   object\n",
      " 2   car_prices_in_rupee  5389 non-null   object\n",
      " 3   kms_driven           5512 non-null   object\n",
      " 4   fuel_type            5512 non-null   object\n",
      " 5   transmission         5512 non-null   object\n",
      " 6   ownership            5512 non-null   object\n",
      " 7   manufacture          5512 non-null   int64 \n",
      " 8   engine               5512 non-null   object\n",
      " 9   Seats                5512 non-null   object\n",
      "dtypes: int64(1), object(9)\n",
      "memory usage: 430.8+ KB\n"
     ]
    }
   ],
   "source": [
    "dataset.info()"
   ]
  },
  {
   "cell_type": "code",
   "execution_count": 42,
   "id": "401c4fee-402e-4937-be47-2669c8a6edc8",
   "metadata": {},
   "outputs": [
    {
     "data": {
      "text/plain": [
       "0       1003000.0\n",
       "1       1283000.0\n",
       "2       1640000.0\n",
       "3        777000.0\n",
       "4        515000.0\n",
       "          ...    \n",
       "5507    2890000.0\n",
       "5508    6490000.0\n",
       "5509    1375000.0\n",
       "5510    2990000.0\n",
       "5511    3190000.0\n",
       "Name: car_prices_in_rupee, Length: 5512, dtype: float64"
      ]
     },
     "execution_count": 42,
     "metadata": {},
     "output_type": "execute_result"
    }
   ],
   "source": [
    "dataset['car_prices_in_rupee'].astype(\"float\")"
   ]
  },
  {
   "cell_type": "code",
   "execution_count": 39,
   "id": "9be46a20-ba29-407b-a8ab-bfa441ad99cb",
   "metadata": {},
   "outputs": [],
   "source": [
    "#Change data type into column Object to float\n",
    "#Object datatype means String \n",
    "dataset['car_prices_in_rupee'] = dataset['car_prices_in_rupee'].astype(\"float\")"
   ]
  },
  {
   "cell_type": "raw",
   "id": "6bdc14d8-bcd6-487d-876c-a451e6ed6b55",
   "metadata": {},
   "source": [
    "dataset.info()"
   ]
  },
  {
   "cell_type": "code",
   "execution_count": null,
   "id": "f6ca3955-071b-4b1d-a699-ba32857aa659",
   "metadata": {},
   "outputs": [],
   "source": [
    "kms_driven"
   ]
  },
  {
   "cell_type": "code",
   "execution_count": 43,
   "id": "011c3948-fa33-4a41-ad6d-1b0fb5096a11",
   "metadata": {},
   "outputs": [
    {
     "data": {
      "text/plain": [
       "0       86,226 kms\n",
       "1       13,248 kms\n",
       "2       60,343 kms\n",
       "3       26,696 kms\n",
       "4       69,414 kms\n",
       "           ...    \n",
       "5507    45,000 kms\n",
       "5508    29,000 kms\n",
       "5509    90,000 kms\n",
       "5510    79,000 kms\n",
       "5511    42,000 kms\n",
       "Name: kms_driven, Length: 5512, dtype: object"
      ]
     },
     "execution_count": 43,
     "metadata": {},
     "output_type": "execute_result"
    }
   ],
   "source": [
    "dataset['kms_driven']"
   ]
  },
  {
   "cell_type": "code",
   "execution_count": null,
   "id": "c47db0a4-609c-4edd-ace3-2764122d39b6",
   "metadata": {},
   "outputs": [],
   "source": [
    "dataset['kms_driven'] = dataset['kms_driven'].str.replace(\",\",\"\")\n",
    "dataset['kms_driven'] = dataset['kms_driven'].str.replace(\"kms\",\"\")"
   ]
  },
  {
   "cell_type": "code",
   "execution_count": 57,
   "id": "4df51806-51d6-4dd7-9ff5-4b2f5303c006",
   "metadata": {},
   "outputs": [
    {
     "name": "stdout",
     "output_type": "stream",
     "text": [
      "<class 'pandas.core.frame.DataFrame'>\n",
      "RangeIndex: 5512 entries, 0 to 5511\n",
      "Data columns (total 10 columns):\n",
      " #   Column               Non-Null Count  Dtype  \n",
      "---  ------               --------------  -----  \n",
      " 0   Company_name         5512 non-null   object \n",
      " 1   car_name             5512 non-null   object \n",
      " 2   car_prices_in_rupee  5389 non-null   float64\n",
      " 3   kms_driven           5512 non-null   int32  \n",
      " 4   fuel_type            5512 non-null   object \n",
      " 5   transmission         5512 non-null   object \n",
      " 6   ownership            5512 non-null   object \n",
      " 7   manufacture          5512 non-null   int64  \n",
      " 8   engine               5512 non-null   object \n",
      " 9   Seats                5512 non-null   object \n",
      "dtypes: float64(1), int32(1), int64(1), object(7)\n",
      "memory usage: 409.2+ KB\n"
     ]
    }
   ],
   "source": [
    "dataset.info()"
   ]
  },
  {
   "cell_type": "code",
   "execution_count": 58,
   "id": "f8bb2322-b18f-41c2-9a6d-be84ca79ae4d",
   "metadata": {},
   "outputs": [],
   "source": [
    "# Convert the 'kms_driven' column data type from int32 to int64\n",
    "dataset['kms_driven'] = dataset['kms_driven'].astype('int64')"
   ]
  },
  {
   "cell_type": "code",
   "execution_count": 59,
   "id": "7685fc38-473d-4e4c-9a4d-6dcdb31a3cd9",
   "metadata": {},
   "outputs": [
    {
     "name": "stdout",
     "output_type": "stream",
     "text": [
      "<class 'pandas.core.frame.DataFrame'>\n",
      "RangeIndex: 5512 entries, 0 to 5511\n",
      "Data columns (total 10 columns):\n",
      " #   Column               Non-Null Count  Dtype  \n",
      "---  ------               --------------  -----  \n",
      " 0   Company_name         5512 non-null   object \n",
      " 1   car_name             5512 non-null   object \n",
      " 2   car_prices_in_rupee  5389 non-null   float64\n",
      " 3   kms_driven           5512 non-null   int64  \n",
      " 4   fuel_type            5512 non-null   object \n",
      " 5   transmission         5512 non-null   object \n",
      " 6   ownership            5512 non-null   object \n",
      " 7   manufacture          5512 non-null   int64  \n",
      " 8   engine               5512 non-null   object \n",
      " 9   Seats                5512 non-null   object \n",
      "dtypes: float64(1), int64(2), object(7)\n",
      "memory usage: 430.8+ KB\n"
     ]
    }
   ],
   "source": [
    "dataset.info()"
   ]
  },
  {
   "cell_type": "markdown",
   "id": "890eb37b-b4bd-406c-96ed-76a639e005d4",
   "metadata": {},
   "source": [
    "#Engine"
   ]
  },
  {
   "cell_type": "code",
   "execution_count": 60,
   "id": "f4c7834f-32d0-4f25-af2f-41e2d892d420",
   "metadata": {},
   "outputs": [
    {
     "data": {
      "text/plain": [
       "0       1956 cc\n",
       "1       1330 cc\n",
       "2       2494 cc\n",
       "3       1199 cc\n",
       "4       1199 cc\n",
       "         ...   \n",
       "5507    2995 cc\n",
       "5508    1968 cc\n",
       "5509    2755 cc\n",
       "5510    2967 cc\n",
       "5511    1991 cc\n",
       "Name: engine, Length: 5512, dtype: object"
      ]
     },
     "execution_count": 60,
     "metadata": {},
     "output_type": "execute_result"
    }
   ],
   "source": [
    "dataset[\"engine\"]"
   ]
  },
  {
   "cell_type": "code",
   "execution_count": 62,
   "id": "505780d1-7427-4a55-870d-310c1eb4225b",
   "metadata": {},
   "outputs": [],
   "source": [
    "dataset['engine'] = dataset['engine'].str.replace(\" cc\",\"\")\n",
    "dataset['engine'] = dataset['engine'].astype('int64')"
   ]
  },
  {
   "cell_type": "code",
   "execution_count": 63,
   "id": "6cb0319a-1b59-4dd9-979a-d45e337b9c16",
   "metadata": {},
   "outputs": [
    {
     "data": {
      "text/plain": [
       "0       1956\n",
       "1       1330\n",
       "2       2494\n",
       "3       1199\n",
       "4       1199\n",
       "        ... \n",
       "5507    2995\n",
       "5508    1968\n",
       "5509    2755\n",
       "5510    2967\n",
       "5511    1991\n",
       "Name: engine, Length: 5512, dtype: int64"
      ]
     },
     "execution_count": 63,
     "metadata": {},
     "output_type": "execute_result"
    }
   ],
   "source": [
    "dataset['engine']"
   ]
  },
  {
   "cell_type": "markdown",
   "id": "a0cfd22e-a31d-45f4-acef-68fae8bb7686",
   "metadata": {},
   "source": [
    "#Seats"
   ]
  },
  {
   "cell_type": "code",
   "execution_count": 68,
   "id": "7a9f72bc-9ca3-4d7b-8339-62f057a6ed10",
   "metadata": {},
   "outputs": [
    {
     "data": {
      "text/plain": [
       "0       5 Seats\n",
       "1       5 Seats\n",
       "2       5 Seats\n",
       "3       5 Seats\n",
       "4       5 Seats\n",
       "         ...   \n",
       "5507    7 Seats\n",
       "5508    5 Seats\n",
       "5509    5 Seats\n",
       "5510    6 Seats\n",
       "5511    5 Seats\n",
       "Name: Seats, Length: 5512, dtype: object"
      ]
     },
     "execution_count": 68,
     "metadata": {},
     "output_type": "execute_result"
    }
   ],
   "source": [
    "dataset['Seats']"
   ]
  },
  {
   "cell_type": "code",
   "execution_count": 69,
   "id": "e25574db-040d-4dff-a613-baa331c50e3d",
   "metadata": {},
   "outputs": [],
   "source": [
    "dataset['Seats'] = dataset['Seats'].str.replace(\" Seats\",\"\")\n",
    "dataset['Seats'] = dataset['Seats'].astype('int64')"
   ]
  },
  {
   "cell_type": "code",
   "execution_count": 70,
   "id": "62986905-33ee-427b-8c4d-6b1dadf0c90f",
   "metadata": {},
   "outputs": [
    {
     "data": {
      "text/plain": [
       "0       5\n",
       "1       5\n",
       "2       5\n",
       "3       5\n",
       "4       5\n",
       "       ..\n",
       "5507    7\n",
       "5508    5\n",
       "5509    5\n",
       "5510    6\n",
       "5511    5\n",
       "Name: Seats, Length: 5512, dtype: int64"
      ]
     },
     "execution_count": 70,
     "metadata": {},
     "output_type": "execute_result"
    }
   ],
   "source": [
    "dataset['Seats']"
   ]
  },
  {
   "cell_type": "markdown",
   "id": "849fb1b2-a99c-443b-8897-4662c1f7c791",
   "metadata": {},
   "source": [
    "#manifacturing Date"
   ]
  },
  {
   "cell_type": "code",
   "execution_count": 72,
   "id": "064c4cca-437a-41f1-afe7-41218633d56b",
   "metadata": {
    "scrolled": true
   },
   "outputs": [
    {
     "data": {
      "text/plain": [
       "0       2017\n",
       "1       2021\n",
       "2       2016\n",
       "3       2018\n",
       "4       2016\n",
       "        ... \n",
       "5507    2018\n",
       "5508    2015\n",
       "5509    2013\n",
       "5510    2015\n",
       "5511    2017\n",
       "Name: manufacture, Length: 5512, dtype: int64"
      ]
     },
     "execution_count": 72,
     "metadata": {},
     "output_type": "execute_result"
    }
   ],
   "source": [
    "dataset['manufacture']"
   ]
  },
  {
   "cell_type": "code",
   "execution_count": 76,
   "id": "8d37cc5a-ae5b-4102-8a6b-57ae7c859165",
   "metadata": {},
   "outputs": [],
   "source": [
    "#pd.to_datetime(dataset['manufacture'])\n",
    "dataset['manufacture'] = pd.to_datetime(dataset['manufacture'], format='%Y').dt.year"
   ]
  },
  {
   "cell_type": "code",
   "execution_count": 78,
   "id": "1e12ca59-8913-4819-933c-fb7c302dc1b0",
   "metadata": {},
   "outputs": [],
   "source": [
    "dataset['manufacture'] = dataset['manufacture'].astype('int64')\n"
   ]
  },
  {
   "cell_type": "code",
   "execution_count": 80,
   "id": "7ffe360b-fbb5-4d89-a1cc-f74e54f4b71a",
   "metadata": {},
   "outputs": [
    {
     "data": {
      "text/plain": [
       "0       2017\n",
       "1       2021\n",
       "2       2016\n",
       "3       2018\n",
       "4       2016\n",
       "        ... \n",
       "5507    2018\n",
       "5508    2015\n",
       "5509    2013\n",
       "5510    2015\n",
       "5511    2017\n",
       "Name: manufacture, Length: 5512, dtype: int64"
      ]
     },
     "execution_count": 80,
     "metadata": {},
     "output_type": "execute_result"
    }
   ],
   "source": [
    "dataset['manufacture']"
   ]
  },
  {
   "cell_type": "code",
   "execution_count": 82,
   "id": "618fdccb-a731-4dcb-94ca-021c7c4e142d",
   "metadata": {},
   "outputs": [
    {
     "data": {
      "text/html": [
       "<div>\n",
       "<style scoped>\n",
       "    .dataframe tbody tr th:only-of-type {\n",
       "        vertical-align: middle;\n",
       "    }\n",
       "\n",
       "    .dataframe tbody tr th {\n",
       "        vertical-align: top;\n",
       "    }\n",
       "\n",
       "    .dataframe thead th {\n",
       "        text-align: right;\n",
       "    }\n",
       "</style>\n",
       "<table border=\"1\" class=\"dataframe\">\n",
       "  <thead>\n",
       "    <tr style=\"text-align: right;\">\n",
       "      <th></th>\n",
       "      <th>Company_name</th>\n",
       "      <th>car_name</th>\n",
       "      <th>car_prices_in_rupee</th>\n",
       "      <th>kms_driven</th>\n",
       "      <th>fuel_type</th>\n",
       "      <th>transmission</th>\n",
       "      <th>ownership</th>\n",
       "      <th>manufacture</th>\n",
       "      <th>engine</th>\n",
       "      <th>Seats</th>\n",
       "    </tr>\n",
       "  </thead>\n",
       "  <tbody>\n",
       "    <tr>\n",
       "      <th>0</th>\n",
       "      <td>Jeep</td>\n",
       "      <td>Compass 2.0 Longitude Option BSIV</td>\n",
       "      <td>1003000.0</td>\n",
       "      <td>86226</td>\n",
       "      <td>Diesel</td>\n",
       "      <td>Manual</td>\n",
       "      <td>1st Owner</td>\n",
       "      <td>2017</td>\n",
       "      <td>1956</td>\n",
       "      <td>5</td>\n",
       "    </tr>\n",
       "    <tr>\n",
       "      <th>1</th>\n",
       "      <td>Renault</td>\n",
       "      <td>Duster RXZ Turbo CVT</td>\n",
       "      <td>1283000.0</td>\n",
       "      <td>13248</td>\n",
       "      <td>Petrol</td>\n",
       "      <td>Automatic</td>\n",
       "      <td>1st Owner</td>\n",
       "      <td>2021</td>\n",
       "      <td>1330</td>\n",
       "      <td>5</td>\n",
       "    </tr>\n",
       "    <tr>\n",
       "      <th>2</th>\n",
       "      <td>Toyota</td>\n",
       "      <td>Camry 2.5 G</td>\n",
       "      <td>1640000.0</td>\n",
       "      <td>60343</td>\n",
       "      <td>Petrol</td>\n",
       "      <td>Automatic</td>\n",
       "      <td>1st Owner</td>\n",
       "      <td>2016</td>\n",
       "      <td>2494</td>\n",
       "      <td>5</td>\n",
       "    </tr>\n",
       "    <tr>\n",
       "      <th>3</th>\n",
       "      <td>Honda</td>\n",
       "      <td>Jazz VX CVT</td>\n",
       "      <td>777000.0</td>\n",
       "      <td>26696</td>\n",
       "      <td>Petrol</td>\n",
       "      <td>Automatic</td>\n",
       "      <td>1st Owner</td>\n",
       "      <td>2018</td>\n",
       "      <td>1199</td>\n",
       "      <td>5</td>\n",
       "    </tr>\n",
       "    <tr>\n",
       "      <th>4</th>\n",
       "      <td>Volkswagen</td>\n",
       "      <td>Polo 1.2 MPI Highline</td>\n",
       "      <td>515000.0</td>\n",
       "      <td>69414</td>\n",
       "      <td>Petrol</td>\n",
       "      <td>Manual</td>\n",
       "      <td>1st Owner</td>\n",
       "      <td>2016</td>\n",
       "      <td>1199</td>\n",
       "      <td>5</td>\n",
       "    </tr>\n",
       "  </tbody>\n",
       "</table>\n",
       "</div>"
      ],
      "text/plain": [
       "  Company_name                           car_name  car_prices_in_rupee  \\\n",
       "0         Jeep  Compass 2.0 Longitude Option BSIV            1003000.0   \n",
       "1      Renault               Duster RXZ Turbo CVT            1283000.0   \n",
       "2       Toyota                        Camry 2.5 G            1640000.0   \n",
       "3        Honda                        Jazz VX CVT             777000.0   \n",
       "4   Volkswagen              Polo 1.2 MPI Highline             515000.0   \n",
       "\n",
       "   kms_driven fuel_type transmission  ownership  manufacture  engine  Seats  \n",
       "0       86226    Diesel       Manual  1st Owner         2017    1956      5  \n",
       "1       13248    Petrol    Automatic  1st Owner         2021    1330      5  \n",
       "2       60343    Petrol    Automatic  1st Owner         2016    2494      5  \n",
       "3       26696    Petrol    Automatic  1st Owner         2018    1199      5  \n",
       "4       69414    Petrol       Manual  1st Owner         2016    1199      5  "
      ]
     },
     "execution_count": 82,
     "metadata": {},
     "output_type": "execute_result"
    }
   ],
   "source": [
    "dataset.head()"
   ]
  },
  {
   "cell_type": "code",
   "execution_count": null,
   "id": "277690e2-8342-472c-9f0b-e7c4ab677252",
   "metadata": {},
   "outputs": [],
   "source": []
  }
 ],
 "metadata": {
  "kernelspec": {
   "display_name": "Python 3 (ipykernel)",
   "language": "python",
   "name": "python3"
  },
  "language_info": {
   "codemirror_mode": {
    "name": "ipython",
    "version": 3
   },
   "file_extension": ".py",
   "mimetype": "text/x-python",
   "name": "python",
   "nbconvert_exporter": "python",
   "pygments_lexer": "ipython3",
   "version": "3.12.1"
  }
 },
 "nbformat": 4,
 "nbformat_minor": 5
}
